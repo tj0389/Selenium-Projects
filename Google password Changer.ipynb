{
 "cells": [
  {
   "cell_type": "code",
   "execution_count": null,
   "metadata": {},
   "outputs": [],
   "source": [
    "from selenium import webdriver\n",
    "from selenium.webdriver.support.ui import WebDriverWait\n",
    "from selenium.webdriver.common.keys import Keys\n",
    "import time\n",
    "from getpass import getpass\n",
    "\n",
    "browser=webdriver.Chrome()\n",
    "wait=WebDriverWait(browser, 600)\n",
    "\n",
    "## first signin in your google account\n",
    "browser.get(\"https://gmail.com\")\n",
    "user_id=browser.find_element_by_id(\"identifierId\")\n",
    "\n",
    "## Enter user id\n",
    "uid=str(input(\"Enter the user Id: \"))                           \n",
    "user_id.send_keys(uid)\n",
    "browser.find_element_by_class_name(\"VfPpkd-RLmnJb\").click()        \n",
    "browser.implicitly_wait(10)\n",
    "\n",
    "## Enter password\n",
    "pwd = getpass('Enter Password:')                                \n",
    "passw=browser.find_element_by_name(\"password\")\n",
    "passw.send_keys(pwd+Keys.ENTER)\n",
    "\n",
    "## changed password 200 times to reset google history\n",
    "count=0\n",
    "while count<200:                                                \n",
    "    count +=1\n",
    "    browser.implicitly_wait(5) \n",
    "    browser.get(\"https://accounts.google.com/signin/v2/sl/pwd?service=accountsettings&passive=1209600&osid=1&continue=https%3A%2F%2Fmyaccount.google.com%2Fsigninoptions%2Fpassword%3Fhl%3Den&followup=https%3A%2F%2Fmyaccount.google.com%2Fsigninoptions%2Fpassword%3Fhl%3Den&hl=en&emr=1&mrp=security&rart=ANgoxce6adSEJnn-bFYr8Sxh_2sCGgN8DV1MuS8fbboqnXkjFl6XqE2Mr_8WsumRnXRZ-e2Arq3TwCE_ZEIa6g_7vpHZKgT3fA&authuser=0&csig=AF-SEnZbbp12rQ5Sk-Wy%3A1529817571&flowName=GlifWebSignIn&flowEntry=ServiceLogin\")\n",
    "    passw=browser.find_element_by_name(\"password\")\n",
    "    passw.send_keys(pwd + Keys.ENTER) \n",
    "    \n",
    "    # make 12 digit new password using random\n",
    "    newpswd = ''.join(random.choice(string.ascii_uppercase + string.digits +string.ascii_lowercase) for _ in range(12))\n",
    "    \n",
    "    print(\"currpswd = \" + currpswd + \"newpswd = \" + newpswd + \"\\n--------------------------------\\n\" )\n",
    "    browser.implicitly_wait(5)\n",
    "    \n",
    "    passw = browser.find_element_by_name(\"password\")\n",
    "    passw.send_keys(newpswd)\n",
    "    passw = broser.find_element_by_name(\"confirmation_password\")\n",
    "    passw.send_keys(newpswd + Keys.ENTER)\n",
    "    currpswd = newpswd\n",
    "    print(\"Password Changed Successfully\")"
   ]
  },
  {
   "cell_type": "code",
   "execution_count": null,
   "metadata": {},
   "outputs": [],
   "source": []
  }
 ],
 "metadata": {
  "kernelspec": {
   "display_name": "Python 3",
   "language": "python",
   "name": "python3"
  },
  "language_info": {
   "codemirror_mode": {
    "name": "ipython",
    "version": 3
   },
   "file_extension": ".py",
   "mimetype": "text/x-python",
   "name": "python",
   "nbconvert_exporter": "python",
   "pygments_lexer": "ipython3",
   "version": "3.8.3"
  }
 },
 "nbformat": 4,
 "nbformat_minor": 4
}
