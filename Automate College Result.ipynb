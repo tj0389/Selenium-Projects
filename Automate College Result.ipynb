{
 "cells": [
  {
   "cell_type": "code",
   "execution_count": 15,
   "metadata": {},
   "outputs": [],
   "source": [
    "from selenium import webdriver\n",
    "from selenium.webdriver.support.ui import Select\n",
    "from selenium.webdriver.support.ui import WebDriverWait\n",
    "import time"
   ]
  },
  {
   "cell_type": "code",
   "execution_count": 16,
   "metadata": {},
   "outputs": [],
   "source": [
    "browser=webdriver.Chrome()\n",
    "wait=WebDriverWait(browser,600)"
   ]
  },
  {
   "cell_type": "code",
   "execution_count": 17,
   "metadata": {},
   "outputs": [],
   "source": [
    "for i in range(1,65):\n",
    "    browser.get(\"http://www.bietjhs.ac.in/result2019/GetResultodd.aspx\")\n",
    "    browser.implicitly_wait(5)\n",
    "    roll_no=browser.find_element_by_id('txtRollNo')\n",
    "    if i<10:\n",
    "        roll_no.send_keys('180431000'+str(i))\n",
    "    else:\n",
    "        roll_no.send_keys('18043100'+str(i))\n",
    "    select=Select(browser.find_element_by_id('ddlSemester'))\n",
    "    select.select_by_value('3')\n",
    "    browser.find_element_by_id(\"btnSubmit\").click()\n",
    "    browser.implicitly_wait(5)\n",
    "    content=browser.page_source\n",
    "    with open(\"webpage\"+str(i)+\".html\", 'w') as f:\n",
    "        f.write(content)\n",
    "    time.sleep(2)\n",
    "    #roll_no=browser.find_element_by_id('txtRollNo')\n",
    "browser.quit()"
   ]
  },
  {
   "cell_type": "code",
   "execution_count": 37,
   "metadata": {},
   "outputs": [],
   "source": []
  },
  {
   "cell_type": "code",
   "execution_count": null,
   "metadata": {},
   "outputs": [],
   "source": []
  },
  {
   "cell_type": "code",
   "execution_count": null,
   "metadata": {},
   "outputs": [],
   "source": []
  },
  {
   "cell_type": "code",
   "execution_count": null,
   "metadata": {},
   "outputs": [],
   "source": []
  }
 ],
 "metadata": {
  "kernelspec": {
   "display_name": "Python 3",
   "language": "python",
   "name": "python3"
  },
  "language_info": {
   "codemirror_mode": {
    "name": "ipython",
    "version": 3
   },
   "file_extension": ".py",
   "mimetype": "text/x-python",
   "name": "python",
   "nbconvert_exporter": "python",
   "pygments_lexer": "ipython3",
   "version": "3.8.3"
  }
 },
 "nbformat": 4,
 "nbformat_minor": 2
}
